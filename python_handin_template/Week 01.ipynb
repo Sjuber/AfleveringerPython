{
 "cells": [
  {
   "cell_type": "markdown",
   "metadata": {},
   "source": [
    "# Class Exercise 1\n",
    "\n",
    "![](https://miro.medium.com/max/1266/1*Pb8oEA1nGIONsSJk7QSVzg.png)"
   ]
  },
  {
   "cell_type": "code",
   "execution_count": 16,
   "metadata": {
    "scrolled": false
   },
   "outputs": [
    {
     "name": "stdout",
     "output_type": "stream",
     "text": [
      "Enter number:4\n",
      "Enter second number:5\n"
     ]
    },
    {
     "data": {
      "text/plain": [
       "20"
      ]
     },
     "execution_count": 16,
     "metadata": {},
     "output_type": "execute_result"
    }
   ],
   "source": [
    "talEt = int(input(\"Enter number:\"))\n",
    "talTo = int(input(\"Enter second number:\"))\n",
    "talEt * talTo"
   ]
  },
  {
   "cell_type": "code",
   "execution_count": 12,
   "metadata": {
    "scrolled": true
   },
   "outputs": [
    {
     "name": "stdout",
     "output_type": "stream",
     "text": [
      "[1, 3, 5, 7, 9, 11, 13, 15, 17, 19]\n"
     ]
    }
   ],
   "source": [
    "rango = list(range(1,21,2))\n",
    "print(rango)"
   ]
  },
  {
   "cell_type": "code",
   "execution_count": 56,
   "metadata": {
    "scrolled": true
   },
   "outputs": [
    {
     "name": "stdout",
     "output_type": "stream",
     "text": [
      "2 And 1000000\n",
      "250000500000\n"
     ]
    }
   ],
   "source": [
    "print(str(min(list(range(2,1000001,2)))) + \" And \" + str(max(rangomil)))\n",
    "print(sum(rangomil))"
   ]
  },
  {
   "cell_type": "code",
   "execution_count": 93,
   "metadata": {
    "scrolled": true
   },
   "outputs": [
    {
     "name": "stdout",
     "output_type": "stream",
     "text": [
      "[3, 6, 9, 12, 15, 18, 21, 24, 27, 30, 33, 36, 39, 42, 45, 48, 51, 54, 57, 60, 63, 66, 69, 72, 75, 78, 81, 84, 87, 90, 93, 96, 99, 102, 105, 108, 111, 114, 117, 120, 123, 126, 129, 132, 135, 138, 141, 144, 147, 150, 153, 156, 159, 162, 165, 168, 171, 174, 177, 180, 183, 186, 189, 192, 195, 198, 201, 204, 207, 210, 213, 216, 219, 222, 225, 228, 231, 234, 237, 240, 243, 246, 249, 252, 255, 258, 261, 264, 267, 270, 273, 276, 279, 282, 285, 288, 291, 294, 297, 300]\n"
     ]
    }
   ],
   "source": [
    "my_rango = [pølse*3 for pølse in list(range(1,300)) if pølse < 101]\n",
    "print(my_rango)"
   ]
  },
  {
   "cell_type": "code",
   "execution_count": 94,
   "metadata": {},
   "outputs": [
    {
     "name": "stdout",
     "output_type": "stream",
     "text": [
      "[1, 8, 27, 64, 125, 216, 343, 512, 729, 1000]\n"
     ]
    }
   ],
   "source": [
    "my_rango = [element**3 for element in list(range(1,11))]\n",
    "print(my_rango)"
   ]
  },
  {
   "cell_type": "code",
   "execution_count": 95,
   "metadata": {},
   "outputs": [
    {
     "data": {
      "text/plain": [
       "{'day': 8, 'month': 3, 'year': 1985}"
      ]
     },
     "execution_count": 95,
     "metadata": {},
     "output_type": "execute_result"
    }
   ],
   "source": [
    "dateOne = {'day': 8, 'month': 3, 'year': 1985}\n",
    "dateOne"
   ]
  },
  {
   "cell_type": "code",
   "execution_count": 102,
   "metadata": {
    "scrolled": true
   },
   "outputs": [
    {
     "name": "stdout",
     "output_type": "stream",
     "text": [
      "Enter Day13\n",
      "Enter Month(first three letters)May\n",
      "Enter year1996\n",
      "13-5-1996\n"
     ]
    }
   ],
   "source": [
    "months = {'Jan' : '1', 'Feb' : '2', 'Mar' : '3', 'Apr' : '4', 'May' :  '5', 'Jun' : '6',\n",
    "          'Jul' : '7', 'Aug' : '8', 'Sep' : '9', 'Okt' : '10', 'Nov' : '11', 'Dec' : '12'}\n",
    "dag = input(\"Enter Day\")\n",
    "mån = input(\"Enter Month(first three letters)\")\n",
    "år = input(\"Enter year\")\n",
    "\n",
    "print(dag+'-'+months[mån]+\"-\" + år)"
   ]
  },
  {
   "cell_type": "code",
   "execution_count": 120,
   "metadata": {},
   "outputs": [
    {
     "name": "stdout",
     "output_type": "stream",
     "text": [
      "Enter Day4\n",
      "Enter Month(first three letters)May\n",
      "Enter year85\n",
      "('4', '5', '85')\n"
     ]
    }
   ],
   "source": [
    "def datorarium():\n",
    "    months = {'Jan' : '1', 'Feb' : '2', 'Mar' : '3', 'Apr' : '4', 'May' :  '5', 'Jun' : '6','Jul' : '7', 'Aug' : '8', 'Sep' : '9', 'Okt' : '10', 'Nov' : '11', 'Dec' : '12'}\n",
    "    dag = input(\"Enter Day\")\n",
    "    mån = input(\"Enter Month(first three letters)\")\n",
    "    år = input(\"Enter year\")\n",
    "    my_tuple = (dag,months[mån],år)\n",
    "    return my_tuple\n",
    "\n",
    "print(datorarium())"
   ]
  },
  {
   "cell_type": "code",
   "execution_count": 138,
   "metadata": {
    "scrolled": true
   },
   "outputs": [
    {
     "name": "stdout",
     "output_type": "stream",
     "text": [
      "['Hugo', 'Hanne']\n"
     ]
    }
   ],
   "source": [
    "# NR 1 OPG 1\n",
    "\n",
    "my_names = ['Hugo','Jan','Julie','Mie','Hanne','Karl']\n",
    "h_names = [name for name in my_names if(name[0] is 'H')]\n",
    "print(h_names)"
   ]
  },
  {
   "cell_type": "code",
   "execution_count": 143,
   "metadata": {
    "scrolled": true
   },
   "outputs": [
    {
     "name": "stdout",
     "output_type": "stream",
     "text": [
      "[1, 8, 27, 64, 125, 216, 343, 512, 729, 1000, 1331, 1728, 2197, 2744, 3375, 4096, 4913, 5832, 6859, 8000, 9261, 10648, 12167, 13824, 15625, 17576, 19683, 21952, 24389, 27000, 29791, 32768, 35937, 39304, 42875, 46656, 50653, 54872, 59319, 64000, 68921, 74088, 79507, 85184, 91125, 97336, 103823, 110592, 117649, 125000, 132651, 140608, 148877, 157464, 166375, 175616, 185193, 195112, 205379, 216000, 226981, 238328, 250047, 262144, 274625, 287496, 300763, 314432, 328509, 343000, 357911, 373248, 389017, 405224, 421875, 438976, 456533, 474552, 493039, 512000, 531441, 551368, 571787, 592704, 614125, 636056, 658503, 681472, 704969, 729000, 753571, 778688, 804357, 830584, 857375, 884736, 912673, 941192, 970299, 1000000]\n"
     ]
    }
   ],
   "source": [
    "# NR 1 OPG 2\n",
    "\n",
    "print([element**3 for element in list(range(1,101))])"
   ]
  },
  {
   "cell_type": "code",
   "execution_count": 178,
   "metadata": {},
   "outputs": [
    {
     "name": "stdout",
     "output_type": "stream",
     "text": [
      "((4, 'Karl'), (4, 'Mads'), (8, 'Valdemar'))\n"
     ]
    }
   ],
   "source": [
    "# NR 1 OPG 3\n",
    "\n",
    "my_names = ['Karl','Mads','Valdemar']\n",
    "my_tuples = ((len(my_names[0]),my_names[0]), (len(my_names[1]),my_names[1]), (len(my_names[2]),my_names[2]))\n",
    "print(my_tuples)"
   ]
  },
  {
   "cell_type": "code",
   "execution_count": 203,
   "metadata": {
    "scrolled": true
   },
   "outputs": [],
   "source": [
    "# NR 1 OPG 4\n",
    "\n",
    "#Did not understand"
   ]
  },
  {
   "cell_type": "code",
   "execution_count": 215,
   "metadata": {},
   "outputs": [
    {
     "name": "stdout",
     "output_type": "stream",
     "text": [
      "['1 and 1', '2 and 1', '3 and 1', '4 and 1', '5 and 1', '6 and 1', '1 and 2', '2 and 2', '3 and 2', '4 and 2', '5 and 2', '6 and 2', '1 and 3', '2 and 3', '3 and 3', '4 and 3', '5 and 3', '6 and 3', '1 and 4', '2 and 4', '3 and 4', '4 and 4', '5 and 4', '6 and 4', '1 and 5', '2 and 5', '3 and 5', '4 and 5', '5 and 5', '6 and 5', '1 and 6', '2 and 6', '3 and 6', '4 and 6', '5 and 6', '6 and 6']\n"
     ]
    }
   ],
   "source": [
    "# NR 1 OPG 5\n",
    "\n",
    "dice_one = ['1','2','3','4','5','6']\n",
    "dice_two = ['1','2','3','4','5','6']\n",
    "dice_results = [f+' and '+l for l in dice_two for f in dice_one]\n",
    "print(dice_results)"
   ]
  },
  {
   "cell_type": "code",
   "execution_count": 218,
   "metadata": {
    "scrolled": true
   },
   "outputs": [
    {
     "name": "stdout",
     "output_type": "stream",
     "text": [
      "{'Karl': 4, 'Mads': 4, 'Valdemar': 8}\n",
      "4\n"
     ]
    }
   ],
   "source": [
    "# NR 2 OPG 1\n",
    "\n",
    "my_names = ['Karl','Mads','Valdemar']\n",
    "my_lenghts = {my_names[0] : len(my_names[0]), my_names[1] : len(my_names[1]), my_names[2] : len(my_names[2])}\n",
    "\n",
    "print(my_lenghts)"
   ]
  },
  {
   "cell_type": "code",
   "execution_count": 278,
   "metadata": {},
   "outputs": [
    {
     "name": "stdout",
     "output_type": "stream",
     "text": [
      "{0: 1, 1: 8, 2: 27, 3: 64, 4: 125, 5: 216, 6: 343, 7: 512}\n"
     ]
    }
   ],
   "source": [
    "# NR 2 OPG 2\n",
    "\n",
    "my_numbs = [1,2,3,4,5,6,7,8]\n",
    "my_squares = {idx:element**3 for idx, element in enumerate(my_numbs)}\n",
    "print(my_squares)"
   ]
  }
 ],
 "metadata": {
  "kernelspec": {
   "display_name": "Python 3",
   "language": "python",
   "name": "python3"
  },
  "language_info": {
   "codemirror_mode": {
    "name": "ipython",
    "version": 3
   },
   "file_extension": ".py",
   "mimetype": "text/x-python",
   "name": "python",
   "nbconvert_exporter": "python",
   "pygments_lexer": "ipython3",
   "version": "3.7.6"
  }
 },
 "nbformat": 4,
 "nbformat_minor": 4
}
